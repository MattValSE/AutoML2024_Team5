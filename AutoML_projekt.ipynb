{
  "nbformat": 4,
  "nbformat_minor": 0,
  "metadata": {
    "colab": {
      "provenance": [],
      "include_colab_link": true
    },
    "kernelspec": {
      "name": "python3",
      "display_name": "Python 3"
    },
    "language_info": {
      "name": "python"
    }
  },
  "cells": [
    {
      "cell_type": "markdown",
      "metadata": {
        "id": "view-in-github",
        "colab_type": "text"
      },
      "source": [
        "<a href=\"https://colab.research.google.com/github/MattValSE/AutoML2024_Team5/blob/main/AutoML_projekt.ipynb\" target=\"_parent\"><img src=\"https://colab.research.google.com/assets/colab-badge.svg\" alt=\"Open In Colab\"/></a>"
      ]
    },
    {
      "cell_type": "markdown",
      "source": [
        "Notebook consists of 2 parts:\n",
        "\n",
        "1.   Bayesian optimization\n",
        "2.   An attempt to implement the EPSGO algorithm\n",
        "\n",
        "The second part tries to compare the two results \\\n",
        "We also compare it to Gridsearch \\\n",
        "[Presentation](https://docs.google.com/presentation/d/e/2PACX-1vRBlHngMFC8nawaoAkQwtpz9y07YJW01LA1vfOb4nGJ-I9acvzF-BtPOq0JxqOxc47Q2CZpqN2rrcYn/pub?start=false&loop=false&delayms=3000)\n",
        "\n",
        "\n"
      ],
      "metadata": {
        "id": "bM4NOLBEXA29"
      }
    },
    {
      "cell_type": "code",
      "source": [
        "!pip install scikit-optimize\n",
        "!pip install pyDOE"
      ],
      "metadata": {
        "colab": {
          "base_uri": "https://localhost:8080/"
        },
        "id": "EW7bm92rqTyU",
        "outputId": "fc211db1-b2a8-41d1-feb5-bb07ccf4aa43"
      },
      "execution_count": 1,
      "outputs": [
        {
          "output_type": "stream",
          "name": "stdout",
          "text": [
            "Collecting scikit-optimize\n",
            "  Downloading scikit_optimize-0.10.2-py2.py3-none-any.whl.metadata (9.7 kB)\n",
            "Requirement already satisfied: joblib>=0.11 in /usr/local/lib/python3.10/dist-packages (from scikit-optimize) (1.4.2)\n",
            "Collecting pyaml>=16.9 (from scikit-optimize)\n",
            "  Downloading pyaml-24.9.0-py3-none-any.whl.metadata (11 kB)\n",
            "Requirement already satisfied: numpy>=1.20.3 in /usr/local/lib/python3.10/dist-packages (from scikit-optimize) (1.26.4)\n",
            "Requirement already satisfied: scipy>=1.1.0 in /usr/local/lib/python3.10/dist-packages (from scikit-optimize) (1.13.1)\n",
            "Requirement already satisfied: scikit-learn>=1.0.0 in /usr/local/lib/python3.10/dist-packages (from scikit-optimize) (1.5.2)\n",
            "Requirement already satisfied: packaging>=21.3 in /usr/local/lib/python3.10/dist-packages (from scikit-optimize) (24.1)\n",
            "Requirement already satisfied: PyYAML in /usr/local/lib/python3.10/dist-packages (from pyaml>=16.9->scikit-optimize) (6.0.2)\n",
            "Requirement already satisfied: threadpoolctl>=3.1.0 in /usr/local/lib/python3.10/dist-packages (from scikit-learn>=1.0.0->scikit-optimize) (3.5.0)\n",
            "Downloading scikit_optimize-0.10.2-py2.py3-none-any.whl (107 kB)\n",
            "\u001b[2K   \u001b[90m━━━━━━━━━━━━━━━━━━━━━━━━━━━━━━━━━━━━━━━━\u001b[0m \u001b[32m107.8/107.8 kB\u001b[0m \u001b[31m3.5 MB/s\u001b[0m eta \u001b[36m0:00:00\u001b[0m\n",
            "\u001b[?25hDownloading pyaml-24.9.0-py3-none-any.whl (24 kB)\n",
            "Installing collected packages: pyaml, scikit-optimize\n",
            "Successfully installed pyaml-24.9.0 scikit-optimize-0.10.2\n",
            "Collecting pyDOE\n",
            "  Downloading pyDOE-0.3.8.zip (22 kB)\n",
            "  Preparing metadata (setup.py) ... \u001b[?25l\u001b[?25hdone\n",
            "Requirement already satisfied: numpy in /usr/local/lib/python3.10/dist-packages (from pyDOE) (1.26.4)\n",
            "Requirement already satisfied: scipy in /usr/local/lib/python3.10/dist-packages (from pyDOE) (1.13.1)\n",
            "Building wheels for collected packages: pyDOE\n",
            "  Building wheel for pyDOE (setup.py) ... \u001b[?25l\u001b[?25hdone\n",
            "  Created wheel for pyDOE: filename=pyDOE-0.3.8-py3-none-any.whl size=18170 sha256=d77d7365e471c5cd1b17c72aa74c0fb081fed82adcc621c66e0233444e788246\n",
            "  Stored in directory: /root/.cache/pip/wheels/ce/b6/d7/c6b64746dba6433c593e471e0ac3acf4f36040456d1d160d17\n",
            "Successfully built pyDOE\n",
            "Installing collected packages: pyDOE\n",
            "Successfully installed pyDOE-0.3.8\n"
          ]
        }
      ]
    },
    {
      "cell_type": "code",
      "execution_count": 2,
      "metadata": {
        "id": "0eON1kQlp_NX"
      },
      "outputs": [],
      "source": [
        "import numpy as np\n",
        "from sklearn import datasets\n",
        "from sklearn.svm import SVC\n",
        "from sklearn.model_selection import cross_val_score\n",
        "from sklearn.preprocessing import StandardScaler\n",
        "from skopt import gp_minimize\n",
        "from skopt.space import Real\n",
        "from skopt.utils import use_named_args\n",
        "import matplotlib.pyplot as plt\n"
      ]
    },
    {
      "cell_type": "markdown",
      "source": [
        "# Bayesian optimization\n"
      ],
      "metadata": {
        "id": "rjPSf_JvV1sr"
      }
    },
    {
      "cell_type": "code",
      "source": [
        "# Load the dataset (e.g., Iris dataset)\n",
        "data = datasets.load_iris()\n",
        "X = data.data\n",
        "y = data.target\n",
        "\n",
        "# Standardize the features\n",
        "scaler = StandardScaler()\n",
        "X = scaler.fit_transform(X)\n",
        "\n",
        "# Define the SVM model's hyperparameter space\n",
        "space = [Real(1e-6, 100.0, \"log-uniform\", name='C'),\n",
        "         Real(1e-6, 100.0, \"log-uniform\", name='gamma')]\n",
        "\n",
        "# Define the objective function to minimize\n",
        "@use_named_args(space)\n",
        "def objective(**params):\n",
        "    # Create the SVM model with the given hyperparameters\n",
        "    model = SVC(C=params['C'], gamma=params['gamma'])\n",
        "\n",
        "    # Perform cross-validation and calculate the mean accuracy\n",
        "    accuracy = cross_val_score(model, X, y, cv=5, scoring='accuracy').mean()\n",
        "\n",
        "    # Return the negative accuracy (because we want to minimize the objective)\n",
        "    return -accuracy\n"
      ],
      "metadata": {
        "id": "gOE2OVxZqDLS"
      },
      "execution_count": 3,
      "outputs": []
    },
    {
      "cell_type": "code",
      "source": [
        "# Run Bayesian optimization to find the best hyperparameters\n",
        "result = gp_minimize(objective, space, n_calls=50, random_state=42)\n",
        "#print(result)\n",
        "\n",
        "# Extract the optimal hyperparameters\n",
        "best_C = result.x[0]\n",
        "best_gamma = result.x[1]\n",
        "print(f\"Optimal hyperparameters: C = {best_C}, gamma = {best_gamma}\")\n"
      ],
      "metadata": {
        "colab": {
          "base_uri": "https://localhost:8080/"
        },
        "id": "NmtuNXOtqFFa",
        "outputId": "d97303f4-01c4-4914-95a6-995371e5a986"
      },
      "execution_count": 4,
      "outputs": [
        {
          "output_type": "stream",
          "name": "stdout",
          "text": [
            "Optimal hyperparameters: C = 5.094785234755079, gamma = 0.0713002448227164\n"
          ]
        }
      ]
    },
    {
      "cell_type": "code",
      "source": [
        "# Train the final model with the optimal hyperparameters\n",
        "final_model = SVC(C=best_C\n",
        "                  #125.8925\n",
        "                  , gamma=best_gamma)\n",
        "final_model.fit(X, y)\n",
        "\n",
        "# Evaluate the model\n",
        "accuracy = cross_val_score(final_model, X, y, cv=5, scoring='accuracy').mean()\n",
        "print(f\"Cross-validated accuracy of the final model: {accuracy:.2f}\")\n"
      ],
      "metadata": {
        "colab": {
          "base_uri": "https://localhost:8080/"
        },
        "id": "kIDzUdfnqGd8",
        "outputId": "1279d65c-6a41-46c9-adc0-05b4cc7eefae"
      },
      "execution_count": 5,
      "outputs": [
        {
          "output_type": "stream",
          "name": "stdout",
          "text": [
            "Cross-validated accuracy of the final model: 0.98\n"
          ]
        }
      ]
    },
    {
      "cell_type": "markdown",
      "source": [
        "# Implemented algorithm"
      ],
      "metadata": {
        "id": "zJnS2wHMV7Iw"
      }
    },
    {
      "cell_type": "code",
      "source": [
        "import warnings\n",
        "from sklearn.exceptions import ConvergenceWarning\n",
        "\n",
        "# Ignore the specific FutureWarning from LogisticRegression\n",
        "warnings.filterwarnings(\"ignore\", category=FutureWarning, module=\"sklearn.linear_model._logistic\")\n",
        "\n",
        "# Ignore ConvergenceWarning if needed\n",
        "warnings.filterwarnings(\"ignore\", category=ConvergenceWarning)\n",
        "\n",
        "import numpy as np\n",
        "import pandas as pd\n",
        "from sklearn.datasets import load_iris\n",
        "from sklearn.model_selection import cross_val_score\n",
        "from sklearn.linear_model import LogisticRegression\n",
        "from sklearn.gaussian_process import GaussianProcessRegressor\n",
        "from sklearn.gaussian_process.kernels import RBF\n",
        "from pyDOE import lhs\n",
        "from scipy.optimize import minimize\n",
        "from scipy.stats import norm\n",
        "from scipy.optimize import direct\n",
        "\n",
        "# Load the Iris dataset\n",
        "iris = load_iris()\n",
        "X = iris.data\n",
        "y = iris.target\n",
        "\n",
        "# Step 1: Define the objective function (generalization error function Q)\n",
        "def objective_function(params):\n",
        "    # params[0] represents the regularization parameter C\n",
        "    C = 10 ** params[0]  # Transform to log scale\n",
        "    # Train a logistic regression model with the given C\n",
        "    model = LogisticRegression(C=C, max_iter=200, solver='liblinear', multi_class='ovr')\n",
        "    # Compute the negative cross-validation accuracy (to minimize)\n",
        "    scores = cross_val_score(model, X, y, cv=5, scoring='accuracy')\n",
        "    return -np.mean(scores)  # We negate because we want to minimize this value\n",
        "\n",
        "# Step 1: Sample N = 10D initial points from the parameter space\n",
        "def initialize_sample(D, N):\n",
        "    # Generate samples using LHS within bounds [-3, 3]\n",
        "    samples = lhs(D, samples=N, criterion='center')  # 'center' for centered points\n",
        "    samples = samples * 6 - 3  # Scale to [-3, 3] for log C\n",
        "    return samples\n",
        "\n",
        "# Step 2: Compute generalization error Q(pi) for each set of parameters\n",
        "def compute_errors(sample_points):\n",
        "    return np.array([objective_function(p) for p in sample_points])\n",
        "\n",
        "# Step 3: Find Q_min and p_hat\n",
        "def find_best_parameters(errors, sample_points):\n",
        "    Q_min = np.min(errors)\n",
        "    p_hat = sample_points[np.argmin(errors)]\n",
        "    return Q_min, p_hat\n",
        "\n",
        "# Step 4: Train the Gaussian Process model on the points (pi, Q(pi))\n",
        "def train_gp(sample_points, errors):\n",
        "    kernel = RBF(length_scale=2.5) # radial basis function kernel\n",
        "    gp = GaussianProcessRegressor(kernel=kernel, n_restarts_optimizer=10)\n",
        "    gp.fit(sample_points, errors)\n",
        "    return gp\n",
        "\n",
        "# Step 5: Expected Improvement (EI) acquisition function\n",
        "\n",
        "def expected_improvement(X, gp, Q_min, xi=0.01): # Change to xi = 0\n",
        "    mu, sigma = gp.predict(X, return_std=True)\n",
        "    sigma = sigma.reshape(-1, 1)\n",
        "    mu = mu.reshape(-1, 1)\n",
        "\n",
        "    with np.errstate(divide='warn'):\n",
        "        imp = mu - Q_min - xi\n",
        "        Z = imp / sigma\n",
        "        ei = imp * norm.cdf(Z) + sigma * norm.pdf(Z)\n",
        "        ei[sigma == 0.0] = 0.0\n",
        "\n",
        "    return ei\n",
        "\n",
        "# Optimization of acquisition function\n",
        "# I think here we should also have the Scipy implementation of Direct\n",
        "def propose_location(gp, sample_points, Q_min, bounds, errors):\n",
        "    def min_obj(X):\n",
        "        return -expected_improvement(X.reshape(1, -1), gp, Q_min)\n",
        "\n",
        "    # Start from the best point found so far\n",
        "    start_point = sample_points[np.argmin(errors)]\n",
        "    result = direct(min_obj, bounds)\n",
        "    #result = minimize(min_obj, start_point, bounds=bounds, method='L-BFGS-B')\n",
        "    return result.x\n",
        "\n",
        "# Step 6: Update the parameter list and continue until convergence\n",
        "def bayesian_optimization(D=1, num_iterations=20, tolerance=1e-4):\n",
        "    # Initial setup\n",
        "    N = 10 * D\n",
        "    bounds = [(-3, 3)] * D  # Bounds for the log of C\n",
        "    sample_points = initialize_sample(D, N)\n",
        "    errors = compute_errors(sample_points)\n",
        "    Q_min, p_hat = find_best_parameters(errors, sample_points)\n",
        "\n",
        "    # Bayesian optimization loop\n",
        "    for iteration in range(num_iterations):\n",
        "        # Step 4: Train the Gaussian Process\n",
        "        gp = train_gp(sample_points, errors)\n",
        "\n",
        "        # Step 5: Propose a new location\n",
        "        new_point = propose_location(gp, sample_points, Q_min, bounds, errors)\n",
        "\n",
        "        # Step 6: Evaluate the objective function at the new point\n",
        "        new_error = objective_function(new_point)\n",
        "\n",
        "        # If the new point is better, update Q_min and p_hat\n",
        "        if new_error < Q_min:\n",
        "            Q_min = new_error\n",
        "            p_hat = new_point\n",
        "\n",
        "        # Step 7: Add the new point to the sample set\n",
        "        sample_points = np.vstack([sample_points, new_point])\n",
        "        errors = np.append(errors, new_error)\n",
        "\n",
        "        # Print progress\n",
        "        print(f\"Iteration {iteration + 1}/{num_iterations}, Q_min: {Q_min:.4f}, p_hat: {10**p_hat[0]:.4f}\")\n",
        "\n",
        "    return Q_min, p_hat\n",
        "\n",
        "# Function to evaluate a specific C value and return its accuracy\n",
        "def evaluate_specific_c(specific_c):\n",
        "    model = LogisticRegression(C=specific_c, max_iter=200, solver='liblinear', multi_class='ovr')\n",
        "    scores = cross_val_score(model, X, y, cv=5, scoring='accuracy')\n",
        "    return np.mean(scores)\n",
        "\n",
        "# Define the specific value of C for comparison\n",
        "specific_c_value = best_C\n",
        "\n",
        "# Run the Bayesian optimization\n",
        "Q_min, p_hat = bayesian_optimization()\n",
        "optimal_C = 10**p_hat[0]\n",
        "#print(f\"Optimal regularization parameter C: {optimal_C:.4f}\")\n",
        "\n",
        "# Evaluate the specific C value\n",
        "highest_accuracy_specific_c = evaluate_specific_c(specific_c_value)\n",
        "#print(f\"Highest Accuracy at C={specific_c_value}: {highest_accuracy_specific_c:.4f}\")\n",
        "\n",
        "# Print out the comparison\n",
        "print(f\"Comparison - Optimal C: {optimal_C:.4f}, Accuracy: {-Q_min:.4f}, \\n\"\n",
        "      f\"Bayesian optimization C: {specific_c_value:.4f},Bayesian optimization Accuracy : {highest_accuracy_specific_c:.4f}\")\n"
      ],
      "metadata": {
        "colab": {
          "base_uri": "https://localhost:8080/"
        },
        "id": "wkd5NdSxVT3C",
        "outputId": "da0ca145-b0fe-4b96-d968-72de3740643e"
      },
      "execution_count": 6,
      "outputs": [
        {
          "output_type": "stream",
          "name": "stdout",
          "text": [
            "Iteration 1/20, Q_min: -0.9800, p_hat: 125.8925\n",
            "Iteration 2/20, Q_min: -0.9800, p_hat: 125.8925\n",
            "Iteration 3/20, Q_min: -0.9800, p_hat: 125.8925\n",
            "Iteration 4/20, Q_min: -0.9800, p_hat: 125.8925\n",
            "Iteration 5/20, Q_min: -0.9800, p_hat: 125.8925\n",
            "Iteration 6/20, Q_min: -0.9800, p_hat: 125.8925\n",
            "Iteration 7/20, Q_min: -0.9800, p_hat: 125.8925\n",
            "Iteration 8/20, Q_min: -0.9800, p_hat: 125.8925\n",
            "Iteration 9/20, Q_min: -0.9800, p_hat: 125.8925\n",
            "Iteration 10/20, Q_min: -0.9800, p_hat: 125.8925\n",
            "Iteration 11/20, Q_min: -0.9800, p_hat: 125.8925\n",
            "Iteration 12/20, Q_min: -0.9800, p_hat: 125.8925\n",
            "Iteration 13/20, Q_min: -0.9800, p_hat: 125.8925\n",
            "Iteration 14/20, Q_min: -0.9800, p_hat: 125.8925\n",
            "Iteration 15/20, Q_min: -0.9800, p_hat: 125.8925\n",
            "Iteration 16/20, Q_min: -0.9800, p_hat: 125.8925\n",
            "Iteration 17/20, Q_min: -0.9800, p_hat: 125.8925\n",
            "Iteration 18/20, Q_min: -0.9800, p_hat: 125.8925\n",
            "Iteration 19/20, Q_min: -0.9800, p_hat: 125.8925\n",
            "Iteration 20/20, Q_min: -0.9800, p_hat: 125.8925\n",
            "Comparison - Optimal C: 125.8925, Accuracy: 0.9800, \n",
            "Bayesian optimization C: 5.0948,Bayesian optimization Accuracy : 0.9667\n"
          ]
        }
      ]
    },
    {
      "cell_type": "code",
      "source": [
        "from sklearn.linear_model import LogisticRegression\n",
        "from sklearn.model_selection import cross_val_score\n",
        "\n",
        "# Extract the best regularization parameter C from the optimization result\n",
        "best_C = 10 ** p_hat[0]\n",
        "#best_C = 5.094785234755079\n",
        "# Train the logistic regression model using the optimized parameter\n",
        "model = LogisticRegression(C=best_C, max_iter=200, solver='liblinear', multi_class='ovr')\n",
        "\n",
        "# Evaluate the model's accuracy using cross-validation\n",
        "scores = cross_val_score(model, X, y, cv=5, scoring='accuracy')\n",
        "mean_accuracy = np.mean(scores)\n",
        "\n",
        "print(f\"Optimized regularization parameter C: {best_C:.4f}\")\n",
        "print(f\"Cross-validated accuracy with optimized C: {mean_accuracy:.4f}\")\n"
      ],
      "metadata": {
        "colab": {
          "base_uri": "https://localhost:8080/"
        },
        "id": "1B9XvuP97H4w",
        "outputId": "5c74381d-8031-4092-d40f-5bd6a0ce7ffc"
      },
      "execution_count": 7,
      "outputs": [
        {
          "output_type": "stream",
          "name": "stdout",
          "text": [
            "Optimized regularization parameter C: 125.8925\n",
            "Cross-validated accuracy with optimized C: 0.9800\n"
          ]
        }
      ]
    },
    {
      "cell_type": "markdown",
      "source": [
        "# GridSearch"
      ],
      "metadata": {
        "id": "nFapu-PiWGH8"
      }
    },
    {
      "cell_type": "code",
      "source": [
        "from sklearn.model_selection import GridSearchCV\n",
        "\n",
        "# Define a range of values for C (logarithmic scale)\n",
        "param_grid = {'C': np.logspace(-3, 3, 13)}\n",
        "\n",
        "# Perform grid search using cross-validation\n",
        "grid_search = GridSearchCV(LogisticRegression(max_iter=200, solver='liblinear', multi_class='ovr'),\n",
        "                           param_grid, cv=5, scoring='accuracy')\n",
        "grid_search.fit(X, y)\n",
        "\n",
        "# Get the best parameter and accuracy from grid search\n",
        "best_grid_C = grid_search.best_params_['C']\n",
        "best_grid_accuracy = grid_search.best_score_\n",
        "\n",
        "print(f\"Best C from grid search: {best_grid_C:.4f}\")\n",
        "print(f\"Grid search cross-validated accuracy: {best_grid_accuracy:.4f}\")\n"
      ],
      "metadata": {
        "colab": {
          "base_uri": "https://localhost:8080/"
        },
        "id": "WlGp5cD47Loh",
        "outputId": "10c9a7c1-b222-4d38-9f1f-9cf0099d1c2d"
      },
      "execution_count": 8,
      "outputs": [
        {
          "output_type": "stream",
          "name": "stdout",
          "text": [
            "Best C from grid search: 100.0000\n",
            "Grid search cross-validated accuracy: 0.9800\n"
          ]
        }
      ]
    },
    {
      "cell_type": "code",
      "source": [
        "import matplotlib.pyplot as plt\n",
        "\n",
        "# Evaluate the objective function for a range of values\n",
        "C_values = np.logspace(-3, 3, 100)\n",
        "objective_values = [-objective_function([np.log10(C)]) for C in C_values]\n",
        "\n",
        "# Plot the results\n",
        "plt.plot(C_values, objective_values, label='Objective Function')\n",
        "plt.scatter([best_C], [-objective_function([np.log10(best_C)])], color='red', label='Optimized C', zorder=5)\n",
        "plt.scatter([best_grid_C], [-objective_function([np.log10(best_grid_C)])], color='green', label='Grid Search C', zorder=5)\n",
        "plt.xscale('log')\n",
        "plt.xlabel('Regularization Parameter C')\n",
        "plt.ylabel('Negative Accuracy')\n",
        "plt.title('Objective Function vs. Regularization Parameter')\n",
        "plt.legend()\n",
        "plt.show()\n"
      ],
      "metadata": {
        "colab": {
          "base_uri": "https://localhost:8080/",
          "height": 476
        },
        "id": "nSh7FvBc7PoX",
        "outputId": "86be8353-719f-44e8-c033-b284897f757e"
      },
      "execution_count": 9,
      "outputs": [
        {
          "output_type": "display_data",
          "data": {
            "text/plain": [
              "<Figure size 640x480 with 1 Axes>"
            ],
            "image/png": "[encoded data removed]"
          },
          "metadata": {}
        }
      ]
    },
    {
      "cell_type": "code",
      "source": [
        "##Earlier attempt\n",
        "\"\"\"\n",
        "import warnings\n",
        "from sklearn.exceptions import ConvergenceWarning\n",
        "\n",
        "# Ignore the specific FutureWarning from LogisticRegression\n",
        "warnings.filterwarnings(\"ignore\", category=FutureWarning, module=\"sklearn.linear_model._logistic\")\n",
        "\n",
        "# Ignore ConvergenceWarning if needed\n",
        "warnings.filterwarnings(\"ignore\", category=ConvergenceWarning)\n",
        "\n",
        "import numpy as np\n",
        "import pandas as pd\n",
        "from sklearn.datasets import load_iris\n",
        "from sklearn.model_selection import cross_val_score\n",
        "from sklearn.linear_model import LogisticRegression\n",
        "from sklearn.gaussian_process import GaussianProcessRegressor\n",
        "from sklearn.gaussian_process.kernels import Matern\n",
        "from scipy.optimize import minimize\n",
        "from scipy.stats import norm\n",
        "from sklearn.gaussian_process.kernels import RBF\n",
        "from pyDOE import lhs\n",
        "from scipy.optimize import differential_evolution\n",
        "\n",
        "# Load the Iris dataset\n",
        "iris = load_iris()\n",
        "X = iris.data\n",
        "y = iris.target\n",
        "\n",
        "# Step 1: Define the objective function (generalization error function Q)\n",
        "def objective_function(params):\n",
        "    # params[0] represents the regularization parameter C\n",
        "    C = 10 ** params[0]  # Transform to log scale\n",
        "    # Train a logistic regression model with the given C\n",
        "    model = LogisticRegression(C=C, max_iter=200, solver='liblinear', multi_class='ovr')\n",
        "    # Compute the negative cross-validation accuracy (to minimize)\n",
        "    scores = cross_val_score(model, X, y, cv=5, scoring='accuracy')\n",
        "    return -np.mean(scores)  # We negate because we want to minimize this value\n",
        "\n",
        "# Step 1: Sample N = 10D initial points from the parameter space\n",
        "def initialize_sample(D, N):\n",
        "    # Generate samples using LHS within bounds [-3, 3]\n",
        "    samples = lhs(D, samples=N, criterion='center')  # 'center' for centered points\n",
        "    samples = samples * 6 - 3  # Scale to [-3, 3] for log C\n",
        "    return samples\n",
        "\n",
        "# Step 2: Compute generalization error Q(pi) for each set of parameters\n",
        "def compute_errors(sample_points):\n",
        "    return np.array([objective_function(p) for p in sample_points])\n",
        "\n",
        "# Step 3: Find Q_min and p_hat\n",
        "def find_best_parameters(errors, sample_points):\n",
        "    Q_min = np.min(errors)\n",
        "    p_hat = sample_points[np.argmin(errors)]\n",
        "    return Q_min, p_hat\n",
        "\n",
        "# Step 4: Train the Gaussian Process model on the points (pi, Q(pi))\n",
        "def train_gp(sample_points, errors):\n",
        "    kernel =  RBF(length_scale=2.5)\n",
        "    gp = GaussianProcessRegressor(kernel=kernel, n_restarts_optimizer=10)\n",
        "    gp.fit(sample_points, errors)\n",
        "    return gp\n",
        "\n",
        "# Step 5: Expected Improvement (EI) acquisition function\n",
        "def expected_improvement(X, gp, Q_min, xi=0.01):\n",
        "    mu, sigma = gp.predict(X, return_std=True)\n",
        "    sigma = sigma.reshape(-1, 1)\n",
        "    mu = mu.reshape(-1, 1)\n",
        "\n",
        "    with np.errstate(divide='warn'):\n",
        "        imp = mu - Q_min - xi\n",
        "        Z = imp / sigma\n",
        "        ei = imp * norm.cdf(Z) + sigma * norm.pdf(Z)\n",
        "        ei[sigma == 0.0] = 0.0\n",
        "\n",
        "    return ei\n",
        "\n",
        "# Optimization of acquisition function\n",
        "def propose_location(gp, sample_points, Q_min, bounds,errors):\n",
        "    def min_obj(X):\n",
        "        return -expected_improvement(X.reshape(1, -1), gp, Q_min)\n",
        "    #print(p_hat,errors)\n",
        "\n",
        "    # Start from the best point found so far\n",
        "    start_point = sample_points[np.argmin(errors)]\n",
        "    result = minimize(min_obj, start_point, bounds=bounds, method='L-BFGS-B')\n",
        "    return result.x\n",
        "\n",
        "# Step 6: Update the parameter list and continue until convergence\n",
        "def bayesian_optimization(D=1, num_iterations=20, tolerance=1e-4):\n",
        "    # Initial setup\n",
        "    N = 10 * D\n",
        "    bounds = [(-3, 3)] * D  # Bounds for the log of C\n",
        "    sample_points = initialize_sample(D, N)\n",
        "    errors = compute_errors(sample_points)\n",
        "    Q_min, p_hat = find_best_parameters(errors, sample_points)\n",
        "    previous_Q_min = float('inf')\n",
        "\n",
        "    # Bayesian optimization loop\n",
        "    for iteration in range(num_iterations):\n",
        "        # Step 4: Train the Gaussian Process\n",
        "        gp = train_gp(sample_points, errors)\n",
        "\n",
        "        # Step 5: Propose a new location\n",
        "        new_point = propose_location(gp, sample_points, Q_min, bounds,errors)\n",
        "\n",
        "        # Step 6: Evaluate the objective function at the new point\n",
        "        new_error = objective_function(new_point)\n",
        "\n",
        "        # If the new point is better, update Q_min and p_hat\n",
        "        if new_error < Q_min:\n",
        "            Q_min = new_error\n",
        "            p_hat = new_point\n",
        "\n",
        "        # Step 7: Add the new point to the sample set\n",
        "        sample_points = np.vstack([sample_points, new_point])\n",
        "        errors = np.append(errors, new_error)\n",
        "\n",
        "\n",
        "\n",
        "        # Print progress\n",
        "        print(f\"Iteration {iteration + 1}/{num_iterations}, Q_min: {Q_min:.4f}, p_hat: {10**p_hat[0]:.4f}\")\n",
        "\n",
        "    return Q_min, p_hat\n",
        "\n",
        "# Run the Bayesian optimization\n",
        "Q_min, p_hat = bayesian_optimization()\n",
        "print(f\"Optimal regularization parameter C: {10**p_hat[0]:.4f}\")\n",
        "\"\"\""
      ],
      "metadata": {
        "colab": {
          "base_uri": "https://localhost:8080/",
          "height": 109
        },
        "id": "dvl5AgPk5l09",
        "outputId": "15daee15-1da1-4db6-9a38-1e23b6bbef11"
      },
      "execution_count": 10,
      "outputs": [
        {
          "output_type": "execute_result",
          "data": {
            "text/plain": [
              "'\\nimport warnings\\nfrom sklearn.exceptions import ConvergenceWarning\\n\\n# Ignore the specific FutureWarning from LogisticRegression\\nwarnings.filterwarnings(\"ignore\", category=FutureWarning, module=\"sklearn.linear_model._logistic\")\\n\\n# Ignore ConvergenceWarning if needed\\nwarnings.filterwarnings(\"ignore\", category=ConvergenceWarning)\\n\\nimport numpy as np\\nimport pandas as pd\\nfrom sklearn.datasets import load_iris\\nfrom sklearn.model_selection import cross_val_score\\nfrom sklearn.linear_model import LogisticRegression\\nfrom sklearn.gaussian_process import GaussianProcessRegressor\\nfrom sklearn.gaussian_process.kernels import Matern\\nfrom scipy.optimize import minimize\\nfrom scipy.stats import norm\\nfrom sklearn.gaussian_process.kernels import RBF\\nfrom pyDOE import lhs\\nfrom scipy.optimize import differential_evolution\\n\\n# Load the Iris dataset\\niris = load_iris()\\nX = iris.data\\ny = iris.target\\n\\n# Step 1: Define the objective function (generalization error function Q)\\ndef objective_function(params):\\n    # params[0] represents the regularization parameter C\\n    C = 10 ** params[0]  # Transform to log scale\\n    # Train a logistic regression model with the given C\\n    model = LogisticRegression(C=C, max_iter=200, solver=\\'liblinear\\', multi_class=\\'ovr\\')\\n    # Compute the negative cross-validation accuracy (to minimize)\\n    scores = cross_val_score(model, X, y, cv=5, scoring=\\'accuracy\\')\\n    return -np.mean(scores)  # We negate because we want to minimize this value\\n\\n# Step 1: Sample N = 10D initial points from the parameter space\\ndef initialize_sample(D, N):\\n    # Generate samples using LHS within bounds [-3, 3]\\n    samples = lhs(D, samples=N, criterion=\\'center\\')  # \\'center\\' for centered points\\n    samples = samples * 6 - 3  # Scale to [-3, 3] for log C\\n    return samples\\n\\n# Step 2: Compute generalization error Q(pi) for each set of parameters\\ndef compute_errors(sample_points):\\n    return np.array([objective_function(p) for p in sample_points])\\n\\n# Step 3: Find Q_min and p_hat\\ndef find_best_parameters(errors, sample_points):\\n    Q_min = np.min(errors)\\n    p_hat = sample_points[np.argmin(errors)]\\n    return Q_min, p_hat\\n\\n# Step 4: Train the Gaussian Process model on the points (pi, Q(pi))\\ndef train_gp(sample_points, errors):\\n    kernel =  RBF(length_scale=2.5)\\n    gp = GaussianProcessRegressor(kernel=kernel, n_restarts_optimizer=10)\\n    gp.fit(sample_points, errors)\\n    return gp\\n\\n# Step 5: Expected Improvement (EI) acquisition function\\ndef expected_improvement(X, gp, Q_min, xi=0.01):\\n    mu, sigma = gp.predict(X, return_std=True)\\n    sigma = sigma.reshape(-1, 1)\\n    mu = mu.reshape(-1, 1)\\n\\n    with np.errstate(divide=\\'warn\\'):\\n        imp = mu - Q_min - xi\\n        Z = imp / sigma\\n        ei = imp * norm.cdf(Z) + sigma * norm.pdf(Z)\\n        ei[sigma == 0.0] = 0.0\\n\\n    return ei\\n\\n# Optimization of acquisition function\\ndef propose_location(gp, sample_points, Q_min, bounds,errors):\\n    def min_obj(X):\\n        return -expected_improvement(X.reshape(1, -1), gp, Q_min)\\n    #print(p_hat,errors)\\n\\n    # Start from the best point found so far\\n    start_point = sample_points[np.argmin(errors)]\\n    result = minimize(min_obj, start_point, bounds=bounds, method=\\'L-BFGS-B\\')\\n    return result.x\\n\\n# Step 6: Update the parameter list and continue until convergence\\ndef bayesian_optimization(D=1, num_iterations=20, tolerance=1e-4):\\n    # Initial setup\\n    N = 10 * D\\n    bounds = [(-3, 3)] * D  # Bounds for the log of C\\n    sample_points = initialize_sample(D, N)\\n    errors = compute_errors(sample_points)\\n    Q_min, p_hat = find_best_parameters(errors, sample_points)\\n    previous_Q_min = float(\\'inf\\')\\n\\n    # Bayesian optimization loop\\n    for iteration in range(num_iterations):\\n        # Step 4: Train the Gaussian Process\\n        gp = train_gp(sample_points, errors)\\n\\n        # Step 5: Propose a new location\\n        new_point = propose_location(gp, sample_points, Q_min, bounds,errors)\\n\\n        # Step 6: Evaluate the objective function at the new point\\n        new_error = objective_function(new_point)\\n\\n        # If the new point is better, update Q_min and p_hat\\n        if new_error < Q_min:\\n            Q_min = new_error\\n            p_hat = new_point\\n\\n        # Step 7: Add the new point to the sample set\\n        sample_points = np.vstack([sample_points, new_point])\\n        errors = np.append(errors, new_error)\\n\\n\\n\\n        # Print progress\\n        print(f\"Iteration {iteration + 1}/{num_iterations}, Q_min: {Q_min:.4f}, p_hat: {10**p_hat[0]:.4f}\")\\n\\n    return Q_min, p_hat\\n\\n# Run the Bayesian optimization\\nQ_min, p_hat = bayesian_optimization()\\nprint(f\"Optimal regularization parameter C: {10**p_hat[0]:.4f}\")\\n'"
            ],
            "application/vnd.google.colaboratory.intrinsic+json": {
              "type": "string"
            }
          },
          "metadata": {},
          "execution_count": 10
        }
      ]
    },
    {
      "cell_type": "code",
      "source": [
        "# Plot the convergence of the optimization process\n",
        "#plt.plot(-np.array(result.func_vals), marker='o')\n",
        "#plt.xlabel('Iteration')\n",
        "#plt.ylabel('Cross-validated Accuracy')\n",
        "#plt.title('Convergence of Bayesian Optimization')\n",
        "#plt.grid()\n",
        "#plt.show()\n"
      ],
      "metadata": {
        "id": "Ie1j26LdqIMy"
      },
      "execution_count": 11,
      "outputs": []
    }
  ]
}