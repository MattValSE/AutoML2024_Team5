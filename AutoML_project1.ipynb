{
  "nbformat": 4,
  "nbformat_minor": 0,
  "metadata": {
    "colab": {
      "provenance": [],
      "include_colab_link": true
    },
    "kernelspec": {
      "name": "python3",
      "display_name": "Python 3"
    },
    "language_info": {
      "name": "python"
    }
  },
  "cells": [
    {
      "cell_type": "markdown",
      "metadata": {
        "id": "view-in-github",
        "colab_type": "text"
      },
      "source": [
        "<a href=\"https://colab.research.google.com/github/MattValSE/AutoML2024_Team5/blob/main/AutoML_project1.ipynb\" target=\"_parent\"><img src=\"https://colab.research.google.com/assets/colab-badge.svg\" alt=\"Open In Colab\"/></a>"
      ]
    },
    {
      "cell_type": "markdown",
      "source": [
        "# Explainable Automated Machine Learning (LTAT.02.023)\n",
        "## Course project 1\n",
        "Authors:  Kristjan Laid, Mattias Väli and Evely Kirsiaed\n",
        "\n",
        "Description:\n",
        "1. Build and train a baseline, and record the result (train different machine learning algorithms with their default hyperparameters (random forest, decision tree,........etc.) and then select the one that achieves the best performance.).\n",
        "2. Based on the problem at hand, you study the potential pipeline structure, algorithms, or feature transformers at each step and hyperparameter ranges. Use hyperOpt with the potential search space to beat the baseline if possible.\n",
        "\n",
        "Assessment Criteria:\n",
        "1. The project’s code should be available and ready to run if needed.\n",
        "2. Everyone should understand the whole project and be ready to answer any question regarding it, not only the part they contributed to.\n",
        "3. The total assessment time is 15 minutes: 10 minutes for the presentation and 5 minutes for questions.\n",
        "4. You may be interrupted during the presentation for some questions.\n",
        "6. Your presentation should include a dataset description, search space configurations, used baseline, selected pipeline (autoML output), overtime monitoring of the process selection, comparison between the selected and baseline pipelines, statistical test results, and justification for each step.\n",
        "7. Evaluation criteria:\n",
        "\n",
        "a. Correctness of the code - 33% of the mark.\n",
        "\n",
        "b. Completeness of the presentation - 33% of the mark.\n",
        "\n",
        "c. Questions’ answers - 33% of the mark.\n",
        "\n",
        "8. All team members share the same mark for a and b and might get a different mark for c, based on each student’s answers."
      ],
      "metadata": {
        "id": "xf-8INoWYGPo"
      }
    },
    {
      "cell_type": "markdown",
      "source": [
        "## Dataset description\n",
        "todo"
      ],
      "metadata": {
        "id": "4SBPaUHg_HGC"
      }
    },
    {
      "cell_type": "markdown",
      "source": [
        "## Baseline model\n"
      ],
      "metadata": {
        "id": "8hibnLOtZ_k3"
      }
    },
    {
      "cell_type": "code",
      "source": [
        "import numpy as np\n",
        "from sklearn import datasets\n",
        "from sklearn.preprocessing import StandardScaler\n",
        "from sklearn.model_selection import cross_val_score"
      ],
      "metadata": {
        "id": "rLxkhBrTaDAf"
      },
      "execution_count": null,
      "outputs": []
    },
    {
      "cell_type": "code",
      "source": [
        "!pip install xgboost"
      ],
      "metadata": {
        "colab": {
          "base_uri": "https://localhost:8080/"
        },
        "id": "VYOC8ombzBqX",
        "outputId": "59027ad4-e7fc-4e88-9234-5b07099647bd"
      },
      "execution_count": null,
      "outputs": [
        {
          "output_type": "stream",
          "name": "stdout",
          "text": [
            "Requirement already satisfied: xgboost in /usr/local/lib/python3.10/dist-packages (2.1.2)\n",
            "Requirement already satisfied: numpy in /usr/local/lib/python3.10/dist-packages (from xgboost) (1.26.4)\n",
            "Requirement already satisfied: nvidia-nccl-cu12 in /usr/local/lib/python3.10/dist-packages (from xgboost) (2.23.4)\n",
            "Requirement already satisfied: scipy in /usr/local/lib/python3.10/dist-packages (from xgboost) (1.13.1)\n"
          ]
        }
      ]
    },
    {
      "cell_type": "code",
      "source": [
        "# Load the dataset (e.g., Iris dataset)\n",
        "data = datasets.load_iris()\n",
        "X = data.data\n",
        "y = data.target\n",
        "\n",
        "# Standardize the features\n",
        "scaler = StandardScaler()\n",
        "X = scaler.fit_transform(X)"
      ],
      "metadata": {
        "id": "cpTSLI06aId6"
      },
      "execution_count": null,
      "outputs": []
    },
    {
      "cell_type": "code",
      "source": [
        "from sklearn.svm import SVC\n",
        "from sklearn.tree import DecisionTreeClassifier\n",
        "from sklearn.neighbors import KNeighborsClassifier, NearestCentroid\n",
        "from sklearn.naive_bayes import BernoulliNB, GaussianNB\n",
        "from sklearn.linear_model import LogisticRegression, RidgeClassifier\n",
        "from xgboost import XGBClassifier\n",
        "from sklearn.ensemble import RandomForestClassifier, GradientBoostingClassifier\n",
        "res = dict()\n",
        "for model in [GradientBoostingClassifier(random_state = 42),\n",
        "              RandomForestClassifier(random_state = 42),\n",
        "              XGBClassifier(random_state = 42),\n",
        "              RidgeClassifier(random_state = 42),\n",
        "              LogisticRegression(random_state = 42),\n",
        "              GaussianNB(),\n",
        "              BernoulliNB(),\n",
        "              NearestCentroid(),\n",
        "              KNeighborsClassifier(),\n",
        "              DecisionTreeClassifier(random_state = 42),\n",
        "              SVC()]:\n",
        "  # Perform cross-validation and calculate the mean accuracy for each baseline model\n",
        "  accuracy = cross_val_score(model, X, y, cv=5, scoring='accuracy').mean()\n",
        "  res[model] = accuracy\n",
        "\n",
        "print(\"Mean accuracy for baseline models\")\n",
        "for el in dict(sorted(res.items(), key=lambda item: item[1], reverse=True)):\n",
        "  print(f\"Cross-validated accuracy: {res[el]:.5f}, Model: {el}\")"
      ],
      "metadata": {
        "colab": {
          "base_uri": "https://localhost:8080/"
        },
        "collapsed": true,
        "id": "sTdwxGqjaay3",
        "outputId": "1487b453-7af4-40ea-b01e-578668560441"
      },
      "execution_count": null,
      "outputs": [
        {
          "output_type": "stream",
          "name": "stdout",
          "text": [
            "Mean accuracy for baseline models\n",
            "Cross-validated accuracy: 0.96667, Model: RandomForestClassifier(random_state=42)\n",
            "Cross-validated accuracy: 0.96667, Model: SVC()\n",
            "Cross-validated accuracy: 0.96000, Model: GradientBoostingClassifier(random_state=42)\n",
            "Cross-validated accuracy: 0.96000, Model: LogisticRegression(random_state=42)\n",
            "Cross-validated accuracy: 0.96000, Model: KNeighborsClassifier()\n",
            "Cross-validated accuracy: 0.95333, Model: XGBClassifier(base_score=None, booster=None, callbacks=None,\n",
            "              colsample_bylevel=None, colsample_bynode=None,\n",
            "              colsample_bytree=None, device=None, early_stopping_rounds=None,\n",
            "              enable_categorical=False, eval_metric=None, feature_types=None,\n",
            "              gamma=None, grow_policy=None, importance_type=None,\n",
            "              interaction_constraints=None, learning_rate=None, max_bin=None,\n",
            "              max_cat_threshold=None, max_cat_to_onehot=None,\n",
            "              max_delta_step=None, max_depth=None, max_leaves=None,\n",
            "              min_child_weight=None, missing=nan, monotone_constraints=None,\n",
            "              multi_strategy=None, n_estimators=None, n_jobs=None,\n",
            "              num_parallel_tree=None, random_state=42, ...)\n",
            "Cross-validated accuracy: 0.95333, Model: GaussianNB()\n",
            "Cross-validated accuracy: 0.95333, Model: DecisionTreeClassifier(random_state=42)\n",
            "Cross-validated accuracy: 0.86000, Model: NearestCentroid()\n",
            "Cross-validated accuracy: 0.82000, Model: RidgeClassifier(random_state=42)\n",
            "Cross-validated accuracy: 0.75333, Model: BernoulliNB()\n"
          ]
        }
      ]
    },
    {
      "cell_type": "markdown",
      "source": [
        "## Hyperparameter optimization"
      ],
      "metadata": {
        "id": "9CwqKKeC84bj"
      }
    },
    {
      "cell_type": "markdown",
      "source": [
        "### Hyperparameter optimization using Hyperopt"
      ],
      "metadata": {
        "id": "7E3bZRfLGWmC"
      }
    },
    {
      "cell_type": "markdown",
      "source": [
        "### 1. Random search"
      ],
      "metadata": {
        "id": "lcykxbyQBUiA"
      }
    },
    {
      "cell_type": "code",
      "source": [
        "from hyperopt import fmin, tpe, hp, Trials, STATUS_OK\n",
        "from hyperopt.pyll.base import scope"
      ],
      "metadata": {
        "id": "HhwTiZJNGaBi"
      },
      "execution_count": null,
      "outputs": []
    },
    {
      "cell_type": "code",
      "source": [
        "# 2. Define the objective function to minimize\n",
        "def objective(params):\n",
        "    # Create the model using parameters from Hyperopt\n",
        "    rf = RandomForestClassifier(n_estimators=int(params['n_estimators']),\n",
        "                                criterion='gini',\n",
        "    #                            max_depth=int(params['max_depth']),\n",
        "    #                            min_samples_split=int(params['min_samples_split']),\n",
        "    #                            min_samples_leaf=int(params['min_samples_leaf']),\n",
        "                                random_state=42)\n",
        "\n",
        "    # Fit the model on the training set\n",
        "    #rf.fit(X_train, y_train)\n",
        "\n",
        "    # Make predictions on the validation set\n",
        "    #y_pred = rf.predict(X_valid)\n",
        "\n",
        "    # Compute the Mean Absolute Error (MAE)\n",
        "    #mae = mean_absolute_error(y_valid, y_pred)\n",
        "    accuracy = cross_val_score(model, X, y, cv=5, scoring='accuracy').mean()\n",
        "\n",
        "    # Return a dictionary with the loss (to minimize) and status\n",
        "    return {'loss': -accuracy,'status': STATUS_OK}\n",
        "\n",
        "# 3. Define the search space for Hyperopt\n",
        "search_space = {\n",
        "    'n_estimators': scope.int(hp.quniform('n_estimators', 30, 250, 5)),\n",
        "#    'max_depth': scope.int(hp.quniform('max_depth', 2, 20, 1)),  # Integer values between 2 and 20\n",
        "#    'min_samples_split': scope.int(hp.quniform('min_samples_split', 1, 50, 1)),\n",
        "#    'min_samples_leaf': scope.int(hp.quniform('min_samples_leaf', 1, 50, 1))  # Integer values between 1 and 50\n",
        "}\n",
        "\n",
        "\n",
        "trials = Trials()\n",
        "# 5. Run Hyperopt to minimize the objective function\n",
        "best = fmin(fn=objective,                # Objective function\n",
        "            space=search_space,          # Search space\n",
        "            algo=tpe.suggest,            # Tree-structured Parzen Estimator (TPE) algorithm\n",
        "            max_evals=100,               # Number of evaluations\n",
        "            trials=trials,               # Store results\n",
        "            rstate=np.random.default_rng(42))  # Ensure reproducibility with a fixed random seed\n",
        "\n",
        "# 6. Print the best hyperparameters\n",
        "print(\"Best hyperparameters found: \", best)"
      ],
      "metadata": {
        "colab": {
          "base_uri": "https://localhost:8080/"
        },
        "id": "_rH8Dr9mGeJ6",
        "outputId": "579f2c14-24c2-48f6-e8e9-6115f24ad5ad"
      },
      "execution_count": null,
      "outputs": [
        {
          "output_type": "stream",
          "name": "stdout",
          "text": [
            "100%|██████████| 100/100 [00:02<00:00, 48.17trial/s, best loss: -0.9666666666666666]\n",
            "Best hyperparameters found:  {'n_estimators': 210.0}\n"
          ]
        }
      ]
    },
    {
      "cell_type": "code",
      "source": [
        "# 7. Train a model with the best hyperparameters on the full training set and evaluate on the test set\n",
        "\n",
        "best_rf = RandomForestClassifier(n_estimators=int(best['n_estimators']),\n",
        "                                 criterion='gini',\n",
        "#                                 max_depth=int(best['max_depth']),\n",
        "#                                 min_samples_split=int(best['min_samples_split']),\n",
        "#                                 min_samples_leaf=int(best['min_samples_leaf']),\n",
        "                                 random_state=42)\n",
        "\n",
        "#best_rf = RandomForestClassifier(random_state=42)\n",
        "accuracy = cross_val_score(best_rf, X, y, cv=5, scoring='accuracy') .mean()\n",
        "print(f\"Cross-validated accuracy: {accuracy:.5f}\")\n"
      ],
      "metadata": {
        "colab": {
          "base_uri": "https://localhost:8080/"
        },
        "id": "nafXOcD69QsZ",
        "outputId": "108abbb6-b114-4963-c356-b2f63e15e401"
      },
      "execution_count": null,
      "outputs": [
        {
          "output_type": "stream",
          "name": "stdout",
          "text": [
            "Cross-validated accuracy: 0.96667\n"
          ]
        }
      ]
    },
    {
      "cell_type": "markdown",
      "source": [
        "### 2. Grid search"
      ],
      "metadata": {
        "id": "-b0RvrRjBgkA"
      }
    },
    {
      "cell_type": "code",
      "source": [
        "import itertools\n",
        "n_estimators_values = np.arange(30, 250, 5)\n",
        "max_depth_values = np.arange(2, 20, 1)\n",
        "\n",
        "grid_search_space = {\n",
        "    'n_estimators': hp.choice('n_estimators', n_estimators_values),\n",
        "    'max_depth': hp.choice('max_depth', max_depth_values)  # Grid of fixed values\n",
        "}\n",
        "# Use itertools.product to find the Cartesian product (i.e., all possible combinations)\n",
        "all_combinations = list(itertools.product(n_estimators_values, max_depth_values))\n",
        "total_combinations = len(all_combinations)\n",
        "# Perform Grid Search using fmin\n",
        "best_grid = fmin(fn=objective,        # Objective function\n",
        "                 space=grid_search_space,  # Grid search space\n",
        "                 algo=tpe.suggest,    # Still use TPE, but this is effectively Grid Search due to the fixed values\n",
        "                 max_evals=total_combinations,       # Number of evaluations, adjust if necessary\n",
        "                 rstate=np.random.default_rng(42))  # Ensure reproducibility\n",
        "best_grid_rf = RandomForestClassifier(n_estimators=int(best_grid['n_estimators']),\n",
        "                                      max_depth=int(best_grid['max_depth']),\n",
        "                                      criterion='gini')"
      ],
      "metadata": {
        "colab": {
          "base_uri": "https://localhost:8080/"
        },
        "id": "NGDg-wphBloF",
        "outputId": "1bf320cf-1e48-40bf-ccef-d711fe3c70e8"
      },
      "execution_count": null,
      "outputs": [
        {
          "output_type": "stream",
          "name": "stdout",
          "text": [
            "100%|██████████| 792/792 [00:22<00:00, 34.46trial/s, best loss: -0.9666666666666666]\n"
          ]
        }
      ]
    },
    {
      "cell_type": "code",
      "source": [
        "accuracy = cross_val_score(best_grid_rf, X, y, cv=5, scoring='accuracy') .mean()\n",
        "print(f\"Cross-validated accuracy: {accuracy:.5f}\")"
      ],
      "metadata": {
        "colab": {
          "base_uri": "https://localhost:8080/"
        },
        "id": "RNrqV-6pDh8o",
        "outputId": "233a6590-b4a5-4b22-8c7b-dae3bccd5374"
      },
      "execution_count": null,
      "outputs": [
        {
          "output_type": "stream",
          "name": "stdout",
          "text": [
            "Cross-validated accuracy: 0.94667\n"
          ]
        }
      ]
    },
    {
      "cell_type": "markdown",
      "source": [
        "## Bayesian optimization"
      ],
      "metadata": {
        "id": "LTyJQBSSDu3I"
      }
    },
    {
      "cell_type": "code",
      "source": [
        "!pip install scikit-optimize\n",
        "from skopt.space import Real\n",
        "from skopt.utils import use_named_args\n",
        "from skopt import gp_minimize"
      ],
      "metadata": {
        "colab": {
          "base_uri": "https://localhost:8080/"
        },
        "id": "9NxN73Xy9-J6",
        "outputId": "74cadc64-ad79-4164-d558-4c3196e46a92"
      },
      "execution_count": null,
      "outputs": [
        {
          "output_type": "stream",
          "name": "stdout",
          "text": [
            "Collecting scikit-optimize\n",
            "  Downloading scikit_optimize-0.10.2-py2.py3-none-any.whl.metadata (9.7 kB)\n",
            "Requirement already satisfied: joblib>=0.11 in /usr/local/lib/python3.10/dist-packages (from scikit-optimize) (1.4.2)\n",
            "Collecting pyaml>=16.9 (from scikit-optimize)\n",
            "  Downloading pyaml-24.9.0-py3-none-any.whl.metadata (11 kB)\n",
            "Requirement already satisfied: numpy>=1.20.3 in /usr/local/lib/python3.10/dist-packages (from scikit-optimize) (1.26.4)\n",
            "Requirement already satisfied: scipy>=1.1.0 in /usr/local/lib/python3.10/dist-packages (from scikit-optimize) (1.13.1)\n",
            "Requirement already satisfied: scikit-learn>=1.0.0 in /usr/local/lib/python3.10/dist-packages (from scikit-optimize) (1.5.2)\n",
            "Requirement already satisfied: packaging>=21.3 in /usr/local/lib/python3.10/dist-packages (from scikit-optimize) (24.1)\n",
            "Requirement already satisfied: PyYAML in /usr/local/lib/python3.10/dist-packages (from pyaml>=16.9->scikit-optimize) (6.0.2)\n",
            "Requirement already satisfied: threadpoolctl>=3.1.0 in /usr/local/lib/python3.10/dist-packages (from scikit-learn>=1.0.0->scikit-optimize) (3.5.0)\n",
            "Downloading scikit_optimize-0.10.2-py2.py3-none-any.whl (107 kB)\n",
            "\u001b[2K   \u001b[90m━━━━━━━━━━━━━━━━━━━━━━━━━━━━━━━━━━━━━━━━\u001b[0m \u001b[32m107.8/107.8 kB\u001b[0m \u001b[31m8.2 MB/s\u001b[0m eta \u001b[36m0:00:00\u001b[0m\n",
            "\u001b[?25hDownloading pyaml-24.9.0-py3-none-any.whl (24 kB)\n",
            "Installing collected packages: pyaml, scikit-optimize\n",
            "Successfully installed pyaml-24.9.0 scikit-optimize-0.10.2\n"
          ]
        }
      ]
    },
    {
      "cell_type": "code",
      "source": [
        "# Define the SVM model's hyperparameter space\n",
        "space = [Real(1e-6, 100.0, \"log-uniform\", name='C'),\n",
        "         Real(1e-6, 100.0, \"log-uniform\", name='gamma')]\n",
        "\n",
        "# Define the objective function to minimize\n",
        "@use_named_args(space)\n",
        "def objective(**params):\n",
        "    # Create the SVM model with the given hyperparameters\n",
        "    model = SVC(C=params['C'], gamma=params['gamma'])\n",
        "\n",
        "    # Perform cross-validation and calculate the mean accuracy\n",
        "    accuracy = cross_val_score(model, X, y, cv=5, scoring='accuracy').mean()\n",
        "\n",
        "    # Return the negative accuracy (because we want to minimize the objective)\n",
        "    return -accuracy\n",
        "\n",
        "# Run Bayesian optimization to find the best hyperparameters\n",
        "result = gp_minimize(objective, space, n_calls=50, random_state=42)\n",
        "#print(result)\n",
        "\n",
        "# Extract the optimal hyperparameters\n",
        "best_C = result.x[0]\n",
        "best_gamma = result.x[1]\n",
        "print(f\"Optimal hyperparameters: C = {best_C}, gamma = {best_gamma}\")\n",
        "\n",
        "# Train the final model with the optimal hyperparameters\n",
        "final_model = SVC(C=best_C\n",
        "                  #125.8925\n",
        "                  , gamma=best_gamma)\n",
        "final_model.fit(X, y)\n",
        "\n",
        "# Evaluate the model\n",
        "accuracy = cross_val_score(final_model, X, y, cv=5, scoring='accuracy').mean()\n",
        "print(f\"Cross-validated accuracy of the final model: {accuracy:.5f}\")"
      ],
      "metadata": {
        "colab": {
          "base_uri": "https://localhost:8080/"
        },
        "id": "jiMgD1GA2-xi",
        "outputId": "bee71c83-e13d-442a-bcd0-5b94ddf67ab1"
      },
      "execution_count": null,
      "outputs": [
        {
          "output_type": "stream",
          "name": "stdout",
          "text": [
            "Optimal hyperparameters: C = 5.094785234755079, gamma = 0.0713002448227164\n",
            "Cross-validated accuracy of the final model: 0.98000\n"
          ]
        }
      ]
    }
  ]
}